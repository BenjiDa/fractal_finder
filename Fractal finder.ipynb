{
 "cells": [
  {
   "cell_type": "code",
   "execution_count": 1,
   "metadata": {
    "collapsed": true
   },
   "outputs": [],
   "source": [
    "%matplotlib qt\n",
    "\n",
    "import fractal_finder as ff"
   ]
  },
  {
   "cell_type": "code",
   "execution_count": 2,
   "metadata": {
    "collapsed": true
   },
   "outputs": [],
   "source": [
    "path = \"/path/to/data\"\n",
    "file_path = \"Sample_clasts.csv\"\n",
    "sample_name =\"Clasts1\""
   ]
  },
  {
   "cell_type": "code",
   "execution_count": 3,
   "metadata": {},
   "outputs": [
    {
     "name": "stdout",
     "output_type": "stream",
     "text": [
      "Please click upper and lower limits: \n",
      "('clicked: ', [(0.040635815694876627, 68.702772243672825), (0.7325538838902671, 7.2002636460899856)])\n"
     ]
    }
   ],
   "source": [
    "slope, intercept, r_value, xdata, ydata = ff.fit_fractal_slopes(file_path, path, sample_name)"
   ]
  },
  {
   "cell_type": "code",
   "execution_count": 5,
   "metadata": {},
   "outputs": [
    {
     "name": "stdout",
     "output_type": "stream",
     "text": [
      "Please click upper and lower limits: \n",
      "('clicked: ', [(0.0052143269702835653, 126.10133557974061), (2.5403276214454706, 2.853977921358299)])\n"
     ]
    }
   ],
   "source": [
    "r_squared = ff.fit_lognormal(file_path, path, sample_name)"
   ]
  },
  {
   "cell_type": "code",
   "execution_count": null,
   "metadata": {
    "collapsed": true
   },
   "outputs": [],
   "source": []
  }
 ],
 "metadata": {
  "anaconda-cloud": {},
  "kernelspec": {
   "display_name": "Python [conda env:anaconda2]",
   "language": "python",
   "name": "conda-env-anaconda2-py"
  },
  "language_info": {
   "codemirror_mode": {
    "name": "ipython",
    "version": 2
   },
   "file_extension": ".py",
   "mimetype": "text/x-python",
   "name": "python",
   "nbconvert_exporter": "python",
   "pygments_lexer": "ipython2",
   "version": "2.7.3"
  }
 },
 "nbformat": 4,
 "nbformat_minor": 2
}
